{
 "cells": [
  {
   "cell_type": "markdown",
   "id": "4207354c",
   "metadata": {},
   "source": [
    "## Creating a sample text on which named entity recognition will be done"
   ]
  },
  {
   "cell_type": "code",
   "execution_count": 1,
   "id": "6b331552",
   "metadata": {},
   "outputs": [],
   "source": [
    "text = \"ABC Inc is going to acquire ZXY inc for $4 billion at 4:00 pm\""
   ]
  },
  {
   "cell_type": "markdown",
   "id": "2b65316e",
   "metadata": {},
   "source": [
    "## Using Spacy"
   ]
  },
  {
   "cell_type": "markdown",
   "id": "516b270a",
   "metadata": {},
   "source": [
    "### Installing Necessary Libraries"
   ]
  },
  {
   "cell_type": "code",
   "execution_count": 2,
   "id": "e563d37d",
   "metadata": {},
   "outputs": [],
   "source": [
    "import spacy\n",
    "from spacy import displacy"
   ]
  },
  {
   "cell_type": "markdown",
   "id": "2aedfe58",
   "metadata": {},
   "source": [
    "### Loading spacy's en_core_web_sm model and viewing all it's available pipes and all the labels associated with 'ner'"
   ]
  },
  {
   "cell_type": "code",
   "execution_count": 3,
   "id": "2e226f35",
   "metadata": {},
   "outputs": [],
   "source": [
    "spacy_model = spacy.load('en_core_web_sm')"
   ]
  },
  {
   "cell_type": "code",
   "execution_count": 4,
   "id": "ec71fe31",
   "metadata": {},
   "outputs": [
    {
     "data": {
      "text/plain": [
       "['tok2vec', 'tagger', 'parser', 'attribute_ruler', 'lemmatizer', 'ner']"
      ]
     },
     "execution_count": 4,
     "metadata": {},
     "output_type": "execute_result"
    }
   ],
   "source": [
    "spacy_model.pipe_names"
   ]
  },
  {
   "cell_type": "code",
   "execution_count": 5,
   "id": "49110027",
   "metadata": {},
   "outputs": [
    {
     "data": {
      "text/plain": [
       "['CARDINAL',\n",
       " 'DATE',\n",
       " 'EVENT',\n",
       " 'FAC',\n",
       " 'GPE',\n",
       " 'LANGUAGE',\n",
       " 'LAW',\n",
       " 'LOC',\n",
       " 'MONEY',\n",
       " 'NORP',\n",
       " 'ORDINAL',\n",
       " 'ORG',\n",
       " 'PERCENT',\n",
       " 'PERSON',\n",
       " 'PRODUCT',\n",
       " 'QUANTITY',\n",
       " 'TIME',\n",
       " 'WORK_OF_ART']"
      ]
     },
     "execution_count": 5,
     "metadata": {},
     "output_type": "execute_result"
    }
   ],
   "source": [
    "spacy_model.pipe_labels['ner']"
   ]
  },
  {
   "cell_type": "markdown",
   "id": "cb40d9c6",
   "metadata": {},
   "source": [
    "### Passing the text to the model"
   ]
  },
  {
   "cell_type": "code",
   "execution_count": 6,
   "id": "9b8e5290",
   "metadata": {},
   "outputs": [],
   "source": [
    "res = spacy_model(text)"
   ]
  },
  {
   "cell_type": "markdown",
   "id": "e3fda923",
   "metadata": {},
   "source": [
    "### Viewing the entities, the label of each detected entity and the desciption of each label of the text"
   ]
  },
  {
   "cell_type": "code",
   "execution_count": 7,
   "id": "d56f55ea",
   "metadata": {},
   "outputs": [
    {
     "name": "stdout",
     "output_type": "stream",
     "text": [
      "ABC Inc | ORG | Companies, agencies, institutions, etc.\n",
      "ZXY inc | ORG | Companies, agencies, institutions, etc.\n",
      "$4 billion | MONEY | Monetary values, including unit\n",
      "4:00 pm | TIME | Times smaller than a day\n"
     ]
    }
   ],
   "source": [
    "for entity in res.ents:\n",
    "    print(entity.text, '|', entity.label_, '|', spacy.explain(entity.label_))"
   ]
  },
  {
   "cell_type": "markdown",
   "id": "160ea2d0",
   "metadata": {},
   "source": [
    "### Viewing the entities present inside the text in colored form "
   ]
  },
  {
   "cell_type": "code",
   "execution_count": 8,
   "id": "8e607032",
   "metadata": {},
   "outputs": [
    {
     "data": {
      "text/html": [
       "<span class=\"tex2jax_ignore\"><div class=\"entities\" style=\"line-height: 2.5; direction: ltr\">\n",
       "<mark class=\"entity\" style=\"background: #7aecec; padding: 0.45em 0.6em; margin: 0 0.25em; line-height: 1; border-radius: 0.35em;\">\n",
       "    ABC Inc\n",
       "    <span style=\"font-size: 0.8em; font-weight: bold; line-height: 1; border-radius: 0.35em; vertical-align: middle; margin-left: 0.5rem\">ORG</span>\n",
       "</mark>\n",
       " is going to acquire \n",
       "<mark class=\"entity\" style=\"background: #7aecec; padding: 0.45em 0.6em; margin: 0 0.25em; line-height: 1; border-radius: 0.35em;\">\n",
       "    ZXY inc\n",
       "    <span style=\"font-size: 0.8em; font-weight: bold; line-height: 1; border-radius: 0.35em; vertical-align: middle; margin-left: 0.5rem\">ORG</span>\n",
       "</mark>\n",
       " for \n",
       "<mark class=\"entity\" style=\"background: #e4e7d2; padding: 0.45em 0.6em; margin: 0 0.25em; line-height: 1; border-radius: 0.35em;\">\n",
       "    $4 billion\n",
       "    <span style=\"font-size: 0.8em; font-weight: bold; line-height: 1; border-radius: 0.35em; vertical-align: middle; margin-left: 0.5rem\">MONEY</span>\n",
       "</mark>\n",
       " at \n",
       "<mark class=\"entity\" style=\"background: #bfe1d9; padding: 0.45em 0.6em; margin: 0 0.25em; line-height: 1; border-radius: 0.35em;\">\n",
       "    4:00 pm\n",
       "    <span style=\"font-size: 0.8em; font-weight: bold; line-height: 1; border-radius: 0.35em; vertical-align: middle; margin-left: 0.5rem\">TIME</span>\n",
       "</mark>\n",
       "</div></span>"
      ],
      "text/plain": [
       "<IPython.core.display.HTML object>"
      ]
     },
     "metadata": {},
     "output_type": "display_data"
    }
   ],
   "source": [
    "displacy.render(res, style='ent')"
   ]
  },
  {
   "cell_type": "markdown",
   "id": "282f7d35",
   "metadata": {},
   "source": [
    "## Using bert-base-NER "
   ]
  },
  {
   "cell_type": "code",
   "execution_count": 9,
   "id": "25e52b29",
   "metadata": {},
   "outputs": [],
   "source": [
    "from transformers import AutoTokenizer, AutoModelForTokenClassification\n",
    "from transformers import pipeline"
   ]
  },
  {
   "cell_type": "markdown",
   "id": "bb97cf19",
   "metadata": {},
   "source": [
    "### Initializing the Autoencoder for the model and loading the model"
   ]
  },
  {
   "cell_type": "code",
   "execution_count": 10,
   "id": "0a29f744",
   "metadata": {},
   "outputs": [
    {
     "name": "stderr",
     "output_type": "stream",
     "text": [
      "Some weights of the model checkpoint at dslim/bert-base-NER were not used when initializing BertForTokenClassification: ['bert.pooler.dense.bias', 'bert.pooler.dense.weight']\n",
      "- This IS expected if you are initializing BertForTokenClassification from the checkpoint of a model trained on another task or with another architecture (e.g. initializing a BertForSequenceClassification model from a BertForPreTraining model).\n",
      "- This IS NOT expected if you are initializing BertForTokenClassification from the checkpoint of a model that you expect to be exactly identical (initializing a BertForSequenceClassification model from a BertForSequenceClassification model).\n"
     ]
    }
   ],
   "source": [
    "tokenizer = AutoTokenizer.from_pretrained(\"dslim/bert-base-NER\")\n",
    "\n",
    "model = AutoModelForTokenClassification.from_pretrained(\"dslim/bert-base-NER\")"
   ]
  },
  {
   "cell_type": "code",
   "execution_count": 11,
   "id": "d07e4620",
   "metadata": {},
   "outputs": [],
   "source": [
    "bert_ner_model = pipeline('ner', model=model, tokenizer=tokenizer)"
   ]
  },
  {
   "cell_type": "markdown",
   "id": "9270d234",
   "metadata": {},
   "source": [
    "### Passing the text to the model"
   ]
  },
  {
   "cell_type": "code",
   "execution_count": 12,
   "id": "9d93dbc1",
   "metadata": {},
   "outputs": [],
   "source": [
    "res = bert_ner_model(text)"
   ]
  },
  {
   "cell_type": "markdown",
   "id": "569a98a1",
   "metadata": {},
   "source": [
    "### Viewing the entities, the label of each detected entity and the desciption of each label of the text"
   ]
  },
  {
   "cell_type": "code",
   "execution_count": 13,
   "id": "cd0959da",
   "metadata": {},
   "outputs": [],
   "source": [
    "abbreviations = {\n",
    "    \"B-MISC\": \"Beginning of a miscellaneous entity right after another miscellaneous entity\",\n",
    "    \"I-MISC\": \"Miscellaneous entity\",\n",
    "    \"B-PER\": \"Beginning of a person’s name right after another person’s name\",\n",
    "    \"I-PER\": \"Person’s name\",\n",
    "    \"B-ORG\": \"Beginning of an organization right after another organization\",\n",
    "    \"I-ORG\": \"Organization\",\n",
    "    \"B-LOC\": \"Beginning of a location right after another location\",\n",
    "    \"I-LOC\": \"Location\"\n",
    "}"
   ]
  },
  {
   "cell_type": "code",
   "execution_count": 14,
   "id": "dd3cfb41",
   "metadata": {},
   "outputs": [
    {
     "name": "stdout",
     "output_type": "stream",
     "text": [
      "ABC | B-ORG | Beginning of an organization right after another organization\n",
      "Inc | I-ORG | Organization\n",
      "Z | B-ORG | Beginning of an organization right after another organization\n",
      "X | I-ORG | Organization\n",
      "Y | I-ORG | Organization\n",
      "in | I-ORG | Organization\n"
     ]
    }
   ],
   "source": [
    "for entity in res:\n",
    "    print(text[entity['start']:entity['end']], '|', entity['entity'], '|', abbreviations.get(entity['entity']))"
   ]
  }
 ],
 "metadata": {
  "kernelspec": {
   "display_name": "Python 3 (ipykernel)",
   "language": "python",
   "name": "python3"
  },
  "language_info": {
   "codemirror_mode": {
    "name": "ipython",
    "version": 3
   },
   "file_extension": ".py",
   "mimetype": "text/x-python",
   "name": "python",
   "nbconvert_exporter": "python",
   "pygments_lexer": "ipython3",
   "version": "3.9.7"
  }
 },
 "nbformat": 4,
 "nbformat_minor": 5
}
